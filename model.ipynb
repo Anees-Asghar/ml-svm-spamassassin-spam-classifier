{
 "cells": [
  {
   "cell_type": "markdown",
   "id": "fc2af20c",
   "metadata": {},
   "source": [
    "#### Libraries"
   ]
  },
  {
   "cell_type": "code",
   "execution_count": 1,
   "id": "06a236ee",
   "metadata": {},
   "outputs": [],
   "source": [
    "import os\n",
    "import re\n",
    "\n",
    "import numpy as np\n",
    "import seaborn as sns\n",
    "from sklearn import svm\n",
    "from sklearn.metrics import f1_score, confusion_matrix, classification_report\n",
    "\n",
    "from nltk.stem import PorterStemmer\n",
    "\n",
    "%matplotlib inline"
   ]
  },
  {
   "cell_type": "markdown",
   "id": "78c14aa6",
   "metadata": {},
   "source": [
    "#### Constants"
   ]
  },
  {
   "cell_type": "code",
   "execution_count": 2,
   "id": "0054d2dc",
   "metadata": {},
   "outputs": [],
   "source": [
    "# address to the root dir\n",
    "ROOT_DIR = os.path.abspath(os.getcwd())\n",
    "\n",
    "# const for training / cross-validation data split\n",
    "TRAINING_SET_SIZE = 0.7\n",
    "\n",
    "# vocabulary size / no. of features\n",
    "VOCAB_SIZE = 4000"
   ]
  },
  {
   "cell_type": "markdown",
   "id": "f4c424c1",
   "metadata": {},
   "source": [
    "#### Model creation functions"
   ]
  },
  {
   "cell_type": "code",
   "execution_count": 3,
   "id": "f6386f73",
   "metadata": {},
   "outputs": [],
   "source": [
    "def processMail(mail):\n",
    "    \"\"\"\n",
    "    Parameters\n",
    "    -------------\n",
    "    mail: string\n",
    "        The block of raw text/mail.\n",
    "        \n",
    "    Returns\n",
    "    -------------\n",
    "    clean_mail: list\n",
    "        A list of all the stemmed words in the mail.\n",
    "    \n",
    "    Task\n",
    "    -------------\n",
    "    - Extract the body of the mail, i.e., remove headers.\n",
    "    - Lower case.\n",
    "    - Strip HTML.\n",
    "    - Substitute numbers, urls, email addresses and $ signs \n",
    "      by ' number ', ' httpaddr ', ' emailaddr ' and ' dollar ' respectively.\n",
    "    - Split text based on punctuatios (also removes punctuation).\n",
    "    - Stem each word and append non-empty stems to clean_mail.\n",
    "\n",
    "    \"\"\"\n",
    "    clean_mail = []\n",
    "    \n",
    "    # remove headers\n",
    "    hdrstart = mail.find(chr(10) + chr(10))\n",
    "    mail = mail[hdrstart:]\n",
    "\n",
    "    # lower case\n",
    "    mail = mail.lower()\n",
    "    \n",
    "    # strip all HTML\n",
    "    mail =re.compile('<[^<>]+>').sub(' ', mail)\n",
    "\n",
    "    # handle Numbers\n",
    "    mail = re.compile('[0-9]+').sub(' number ', mail)\n",
    "\n",
    "    # handle URLS\n",
    "    mail = re.compile('(http|https)://[^\\s]*').sub(' httpaddr ', mail)\n",
    "\n",
    "    # handle Email Addresses\n",
    "    mail = re.compile('[^\\s]+@[^\\s]+').sub(' emailaddr ', mail)\n",
    "    \n",
    "    # handle $ sign\n",
    "    mail = re.compile('[$]+').sub(' dollar ', mail)\n",
    "    \n",
    "    # get rid of any punctuation\n",
    "    mail = re.split('[ @$/#.-:&*+=\\[\\]?!(){},''\">_<;%\\n\\r]', mail)\n",
    "    \n",
    "    # clean, stem and then append the word to clean_mail\n",
    "    stemmer = PorterStemmer()\n",
    "    for word in mail:\n",
    "        # remove alpha-numeric characters\n",
    "        word = re.compile('[^a-zA-Z0-9]').sub('', word).strip()\n",
    "        if len(word):\n",
    "            word = stemmer.stem(word)\n",
    "            clean_mail.append(word)\n",
    "    \n",
    "    return clean_mail"
   ]
  },
  {
   "cell_type": "code",
   "execution_count": 4,
   "id": "52a4f0ec",
   "metadata": {},
   "outputs": [],
   "source": [
    "def createVocabulary(mails, size=1000):\n",
    "    \"\"\"\n",
    "    Parameters\n",
    "    -------------\n",
    "    mails: list\n",
    "        List of mails where each element/mail is a list of stemmed words.\n",
    "    size: int\n",
    "        Size of the vocabulary.\n",
    "        \n",
    "    Returns\n",
    "    -------------\n",
    "    vocab: list\n",
    "        List of most common words in mails.\n",
    "    \n",
    "    Task\n",
    "    -------------\n",
    "    Finds the most common words in mails.\n",
    "\n",
    "    \"\"\"\n",
    "    all_words_w_count = {}\n",
    "    \n",
    "    # record the amount of times each word has occured\n",
    "    for mail in mails:\n",
    "        for word in mail:\n",
    "            try:\n",
    "                all_words_w_count[word] += 1\n",
    "            except:\n",
    "                all_words_w_count[word] = 1\n",
    "    \n",
    "    # sort the words by most frequent to least\n",
    "    sorted_words = [w for w, c in sorted(all_words_w_count.items(), \\\n",
    "                                         key=lambda item: item[1], reverse=True)]\n",
    "    \n",
    "    # returns the complete list if the unique words found in mail < size provided \n",
    "    try:\n",
    "        vocab = sorted_words[:size]\n",
    "    except:\n",
    "        vocab = sorted_words\n",
    "    return vocab"
   ]
  },
  {
   "cell_type": "code",
   "execution_count": 5,
   "id": "e40efdcf",
   "metadata": {},
   "outputs": [],
   "source": [
    "def getFeatureMatrix(mails, vocab):\n",
    "    \"\"\"\n",
    "    Parameters\n",
    "    -------------\n",
    "    mails: list\n",
    "        List of mails where each element/mail is a list of stemmed words.\n",
    "    vocab: list\n",
    "        List of most common words in all mails.\n",
    "        \n",
    "    Returns\n",
    "    -------------\n",
    "    X: numpy array \n",
    "        The feature matrix with shape (m, n).\n",
    "    \n",
    "    Task\n",
    "    -------------\n",
    "    - Initializes the feature matrix X with shape (m, n) \n",
    "      where m is the no. of mails and n is the no. of words in vocab.\n",
    "    - For each mail fills in a row of X where jth col is marked 1 if \n",
    "      the jth word in vocab is present in mail and 0 otherwise.\n",
    "\n",
    "    \"\"\"\n",
    "    \n",
    "    # useful variables\n",
    "    m = len(mails)\n",
    "    n = len(vocab)\n",
    "    \n",
    "    # initializing X\n",
    "    X = np.zeros((m, n))\n",
    "    \n",
    "    # filling in X\n",
    "    for i, mail in enumerate(mails):\n",
    "        for j, word in enumerate(vocab):\n",
    "            X[i, j] = word in mail\n",
    "    \n",
    "    return X"
   ]
  },
  {
   "cell_type": "markdown",
   "id": "1de094dd",
   "metadata": {},
   "source": [
    "#### Loading data"
   ]
  },
  {
   "cell_type": "code",
   "execution_count": 6,
   "id": "5275e218",
   "metadata": {},
   "outputs": [],
   "source": [
    "# Asserts that the data.rar file has already been extracted\n",
    "assert os.path.exists(os.path.join(ROOT_DIR, 'data')), \\\n",
    "'Please extract the data file from data.rar into the root directory of this project.'\n",
    "\n",
    "# useful variables\n",
    "clean_mails = []\n",
    "labels = []\n",
    "\n",
    "# pointer to the directory that holds sub-directories of email samples\n",
    "data_dir = os.path.join(ROOT_DIR, 'data\\spamassassin')\n",
    "\n",
    "# iterate over sub-directories\n",
    "for sub_dir_name in os.listdir(data_dir):\n",
    "    is_spam = 'spam' in sub_dir_name\n",
    "    \n",
    "    # pointer to sub-directory\n",
    "    sub_dir = os.path.join(data_dir, sub_dir_name)\n",
    "    # for each mail in sub-directory\n",
    "    for mail_id in os.listdir(sub_dir):\n",
    "        try:\n",
    "            with open(os.path.join(sub_dir, mail_id)) as f:\n",
    "                mail_contents = f.read()\n",
    "                \n",
    "            # clean mails_contents\n",
    "            clean_mail = processMail(mail_contents)\n",
    "            \n",
    "            # append to clean_mails and labels\n",
    "            clean_mails.append(clean_mail)\n",
    "            labels.append(int(is_spam))\n",
    "            \n",
    "        except:\n",
    "            continue\n"
   ]
  },
  {
   "cell_type": "markdown",
   "id": "291e2bf4",
   "metadata": {},
   "source": [
    "#### Model variables"
   ]
  },
  {
   "cell_type": "code",
   "execution_count": 7,
   "id": "4e2c0cf9",
   "metadata": {},
   "outputs": [],
   "source": [
    "n = VOCAB_SIZE\n",
    "m = len(clean_mails)\n",
    "\n",
    "vocabulary = createVocabulary(clean_mails, VOCAB_SIZE)\n",
    "\n",
    "X = getFeatureMatrix(clean_mails, vocabulary)\n",
    "y = np.array(labels)"
   ]
  },
  {
   "cell_type": "markdown",
   "id": "482865fe",
   "metadata": {},
   "source": [
    "#### Train / Cross-Validation set split"
   ]
  },
  {
   "cell_type": "code",
   "execution_count": 8,
   "id": "8c401eb7",
   "metadata": {},
   "outputs": [],
   "source": [
    "mval = int(m * (1-TRAINING_SET_SIZE))\n",
    "rand_indices = np.random.choice(m, mval, replace=False)\n",
    "\n",
    "Xval, yval = X[rand_indices, :], y[rand_indices]\n",
    "X, y = np.delete(X, rand_indices, axis=0), np.delete(y, rand_indices)\n",
    "\n",
    "m = y.size"
   ]
  },
  {
   "cell_type": "markdown",
   "id": "c7dd9b48",
   "metadata": {},
   "source": [
    "#### Model training"
   ]
  },
  {
   "cell_type": "code",
   "execution_count": 9,
   "id": "6786a296",
   "metadata": {},
   "outputs": [
    {
     "data": {
      "text/plain": [
       "LinearSVC(dual=False)"
      ]
     },
     "execution_count": 9,
     "metadata": {},
     "output_type": "execute_result"
    }
   ],
   "source": [
    "clf = svm.LinearSVC(dual=(m<n)) # sets dual=True if m < n\n",
    "clf.fit(X, y)"
   ]
  },
  {
   "cell_type": "markdown",
   "id": "d80687ba",
   "metadata": {},
   "source": [
    "#### Model performance"
   ]
  },
  {
   "cell_type": "code",
   "execution_count": 10,
   "id": "b782a090",
   "metadata": {
    "scrolled": true
   },
   "outputs": [],
   "source": [
    "predictions = clf.predict(Xval)"
   ]
  },
  {
   "cell_type": "code",
   "execution_count": 11,
   "id": "95b0595c",
   "metadata": {},
   "outputs": [
    {
     "name": "stdout",
     "output_type": "stream",
     "text": [
      "The model has a 97.24 % accuracy.\n",
      "--------------------------------------------------------------\n",
      "              precision    recall  f1-score   support\n",
      "\n",
      "           0       0.98      0.98      0.98      1278\n",
      "           1       0.96      0.94      0.95       534\n",
      "\n",
      "    accuracy                           0.97      1812\n",
      "   macro avg       0.97      0.96      0.97      1812\n",
      "weighted avg       0.97      0.97      0.97      1812\n",
      "\n",
      "--------------------------------------------------------------\n",
      "F-Measure: 0.953\n",
      "--------------------------------------------------------------\n"
     ]
    },
    {
     "data": {
      "image/png": "[encoded data removed]",
      "text/plain": [
       "<Figure size 432x288 with 2 Axes>"
      ]
     },
     "metadata": {
      "needs_background": "light"
     },
     "output_type": "display_data"
    }
   ],
   "source": [
    "# Accuracy\n",
    "accuracy = np.average(yval==predictions) * 100\n",
    "print(f'The model has a {round(accuracy, 2)} % accuracy.')\n",
    "print('--------------------------------------------------------------')\n",
    "\n",
    "# Classification Report\n",
    "print(classification_report(yval, predictions))\n",
    "print('--------------------------------------------------------------')\n",
    "\n",
    "# F-1 Score\n",
    "score_2 = f1_score(yval, predictions, average = 'binary')\n",
    "print('F-Measure: %.3f' % score_2)\n",
    "print('--------------------------------------------------------------')\n",
    "\n",
    "# Confusion Matrix\n",
    "cf_matrix = confusion_matrix(yval, predictions)\n",
    "\n",
    "group_names = ['True Neg','False Pos','False Neg','True Pos']\n",
    "group_counts = ['{0:0.0f}'.format(value) for value in\n",
    "                cf_matrix.flatten()]\n",
    "group_percentages = ['{0:.2%}'.format(value) for value in\n",
    "                     cf_matrix.flatten()/np.sum(cf_matrix)]\n",
    "\n",
    "labels = [f'{v1}\\n{v2}\\n{v3}' for v1, v2, v3 in\n",
    "          zip(group_names,group_counts,group_percentages)]\n",
    "\n",
    "labels = np.asarray(labels).reshape(2,2)\n",
    "sns.heatmap(cf_matrix/np.sum(cf_matrix), annot=labels, fmt='')\n",
    "\n",
    "pass"
   ]
  },
  {
   "cell_type": "markdown",
   "id": "fca489d6",
   "metadata": {},
   "source": [
    "#### Making predictions"
   ]
  },
  {
   "cell_type": "code",
   "execution_count": 12,
   "id": "6cc086aa",
   "metadata": {},
   "outputs": [],
   "source": [
    "def predictSamples(filenames):\n",
    "    \"\"\"\n",
    "    Parameters\n",
    "    -------------\n",
    "    filenames: list\n",
    "        List of filenames of the files to be predicted.\n",
    "        \n",
    "    Returns\n",
    "    -------------\n",
    "    Nothing to Return. Prints the result.\n",
    "    \n",
    "    Task\n",
    "    -------------\n",
    "    Predicts whether samples provided as 'filenames' are spam or not.\n",
    "\n",
    "    \"\"\"\n",
    "    # if passed an empty list\n",
    "    if not filenames:\n",
    "        print('Nothing to predict.')\n",
    "        return\n",
    "    \n",
    "    # extracting clean mails from files of filenames provided\n",
    "    clean_mails = []\n",
    "    for i, filename in enumerate(filenames):\n",
    "        path_to_file = os.path.join(ROOT_DIR, 'data', 'samples', filename)\n",
    "        \n",
    "        try:\n",
    "            with open(path_to_file) as f:\n",
    "                mail_contents = f.read()\n",
    "        except:\n",
    "            print(f'Could not read {filename}.')\n",
    "            continue\n",
    "        \n",
    "        clean_mail = processMail(mail_contents)\n",
    "        clean_mails.append(clean_mail)\n",
    "    \n",
    "    # create the feature matrix\n",
    "    try:\n",
    "        X = getFeatureMatrix(clean_mails, vocabulary)\n",
    "    except:\n",
    "        print('No vocabulary has been created.')\n",
    "        return\n",
    "    \n",
    "    # predicting\n",
    "    try:\n",
    "        predictions = clf.predict(X)\n",
    "    except:\n",
    "        print('No model has been trained.')\n",
    "        return\n",
    "    \n",
    "    # outputting predictions\n",
    "    for i, pred in enumerate(predictions):\n",
    "        if pred:\n",
    "            print(f'{filenames[i]} is spam.')\n",
    "        else:\n",
    "            print(f'{filenames[i]} is not spam.') \n",
    "    return"
   ]
  },
  {
   "cell_type": "code",
   "execution_count": 13,
   "id": "764940c3",
   "metadata": {},
   "outputs": [
    {
     "name": "stdout",
     "output_type": "stream",
     "text": [
      "emailSample1.txt is not spam.\n",
      "emailSample2.txt is spam.\n"
     ]
    }
   ],
   "source": [
    "# example\n",
    "filenames = ['emailSample1.txt', 'emailSample2.txt']\n",
    "predictSamples(filenames)"
   ]
  }
 ],
 "metadata": {
  "kernelspec": {
   "display_name": "Python 3 (ipykernel)",
   "language": "python",
   "name": "python3"
  },
  "language_info": {
   "codemirror_mode": {
    "name": "ipython",
    "version": 3
   },
   "file_extension": ".py",
   "mimetype": "text/x-python",
   "name": "python",
   "nbconvert_exporter": "python",
   "pygments_lexer": "ipython3",
   "version": "3.9.6"
  }
 },
 "nbformat": 4,
 "nbformat_minor": 5
}
